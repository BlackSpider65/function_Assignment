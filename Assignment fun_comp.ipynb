{
 "cells": [
  {
   "cell_type": "markdown",
   "id": "1c4a64d2",
   "metadata": {},
   "source": [
    "### Question no - 01"
   ]
  },
  {
   "cell_type": "code",
   "execution_count": 1,
   "id": "b1d3413f",
   "metadata": {},
   "outputs": [],
   "source": [
    "# help of def keyword crate a function."
   ]
  },
  {
   "cell_type": "code",
   "execution_count": 2,
   "id": "ab246b49",
   "metadata": {},
   "outputs": [],
   "source": [
    "def find_odd(l):\n",
    "    odd_list=[]\n",
    "    for i in l:\n",
    "        if i%2!=0:\n",
    "            odd_list.append(i)\n",
    "    return odd_list"
   ]
  },
  {
   "cell_type": "code",
   "execution_count": 3,
   "id": "436e38d1",
   "metadata": {},
   "outputs": [
    {
     "data": {
      "text/plain": [
       "[1, 3, 5, 7, 9, 11, 13, 15, 17, 19, 21, 23]"
      ]
     },
     "execution_count": 3,
     "metadata": {},
     "output_type": "execute_result"
    }
   ],
   "source": [
    "find_odd(list(range(1,25)))"
   ]
  },
  {
   "cell_type": "markdown",
   "id": "ff12727f",
   "metadata": {},
   "source": [
    "### Question no - 02"
   ]
  },
  {
   "cell_type": "code",
   "execution_count": 4,
   "id": "975b7d1b",
   "metadata": {},
   "outputs": [
    {
     "data": {
      "text/plain": [
       "' *args and **kwargs are special syntax used to pass a variable number of arguments to a function. \\n*args is allows a function to accept a variable number of positional arguments.*args is collected element in a tuple.\\n**kwargs is allows a function to accept a variable number of keyword arguments.**kwargs is collected element in a dictionary.'"
      ]
     },
     "execution_count": 4,
     "metadata": {},
     "output_type": "execute_result"
    }
   ],
   "source": [
    "''' *args and **kwargs are special syntax used to pass a variable number of arguments to a function. \n",
    "*args is allows a function to accept a variable number of positional arguments.*args is collected element in a tuple.\n",
    "**kwargs is allows a function to accept a variable number of keyword arguments.**kwargs is collected element in a dictionary.'''\n",
    "\n"
   ]
  },
  {
   "cell_type": "code",
   "execution_count": 6,
   "id": "1706b1dc",
   "metadata": {},
   "outputs": [
    {
     "name": "stdout",
     "output_type": "stream",
     "text": [
      "[1, 4, 9, 25, 16]\n"
     ]
    }
   ],
   "source": [
    "def seq_num(*args):\n",
    "    num = []\n",
    "    for i in args:\n",
    "        num.append(i**2)\n",
    "    return num\n",
    "print(seq_num(1,2,3,5,4))"
   ]
  },
  {
   "cell_type": "code",
   "execution_count": 7,
   "id": "db4a3d63",
   "metadata": {},
   "outputs": [
    {
     "name": "stdout",
     "output_type": "stream",
     "text": [
      "{'name': 'vishal', 'age': 20, 'number': [1, 2, 3, 4, 5, 6]}\n"
     ]
    }
   ],
   "source": [
    "def vis(**kwargs):\n",
    "    return kwargs\n",
    "print(vis(name='vishal',age=20,number=[1,2,3,4,5,6]))\n",
    "    "
   ]
  },
  {
   "cell_type": "markdown",
   "id": "6ba2d489",
   "metadata": {},
   "source": [
    "### Question no - 03"
   ]
  },
  {
   "cell_type": "code",
   "execution_count": 8,
   "id": "abd7c475",
   "metadata": {},
   "outputs": [
    {
     "data": {
      "text/plain": [
       "' with help of iter() function , the  the iterable object is change in iterator and the help oh next() function , \\nperform the iteration of these object.'"
      ]
     },
     "execution_count": 8,
     "metadata": {},
     "output_type": "execute_result"
    }
   ],
   "source": [
    "#   An iterator is an object that contains a countable number of values.\n",
    "''' with help of iter() function , the  the iterable object is change in iterator and the help oh next() function , \n",
    "perform the iteration of these object.'''"
   ]
  },
  {
   "cell_type": "code",
   "execution_count": 9,
   "id": "8efd2972",
   "metadata": {},
   "outputs": [],
   "source": [
    "given_list = [2,4,6,8,10,12,14,16,18,20]\n",
    "new_list = iter(given_list)\n"
   ]
  },
  {
   "cell_type": "code",
   "execution_count": 10,
   "id": "8c71d714",
   "metadata": {},
   "outputs": [
    {
     "data": {
      "text/plain": [
       "2"
      ]
     },
     "execution_count": 10,
     "metadata": {},
     "output_type": "execute_result"
    }
   ],
   "source": [
    "next(new_list)"
   ]
  },
  {
   "cell_type": "code",
   "execution_count": 11,
   "id": "fbe20da5",
   "metadata": {},
   "outputs": [
    {
     "data": {
      "text/plain": [
       "4"
      ]
     },
     "execution_count": 11,
     "metadata": {},
     "output_type": "execute_result"
    }
   ],
   "source": [
    "next(new_list)"
   ]
  },
  {
   "cell_type": "code",
   "execution_count": 12,
   "id": "3a433e9f",
   "metadata": {},
   "outputs": [
    {
     "data": {
      "text/plain": [
       "6"
      ]
     },
     "execution_count": 12,
     "metadata": {},
     "output_type": "execute_result"
    }
   ],
   "source": [
    "next(new_list)"
   ]
  },
  {
   "cell_type": "code",
   "execution_count": 13,
   "id": "bd412214",
   "metadata": {},
   "outputs": [
    {
     "data": {
      "text/plain": [
       "8"
      ]
     },
     "execution_count": 13,
     "metadata": {},
     "output_type": "execute_result"
    }
   ],
   "source": [
    "next(new_list)"
   ]
  },
  {
   "cell_type": "code",
   "execution_count": 14,
   "id": "c38289c3",
   "metadata": {},
   "outputs": [
    {
     "data": {
      "text/plain": [
       "10"
      ]
     },
     "execution_count": 14,
     "metadata": {},
     "output_type": "execute_result"
    }
   ],
   "source": [
    "next(new_list)"
   ]
  },
  {
   "cell_type": "markdown",
   "id": "949195cf",
   "metadata": {},
   "source": [
    "### Question no - 04"
   ]
  },
  {
   "cell_type": "code",
   "execution_count": 15,
   "id": "d4250757",
   "metadata": {},
   "outputs": [],
   "source": [
    "# A generator function is a special type of function that allows you to define an iterator. It produces a sequence of values that can be iterated over, but unlike regular functions that return a value and then exit, generator functions can yield multiple values and then resume from where they left off.\n",
    "\n",
    "# The yield keyword is used in generator functions in Python to create iterators."
   ]
  },
  {
   "cell_type": "code",
   "execution_count": 16,
   "id": "fca04806",
   "metadata": {},
   "outputs": [],
   "source": [
    "def even_num(a):\n",
    "    i=0\n",
    "    while i<=a:\n",
    "        yield i \n",
    "        i+=2"
   ]
  },
  {
   "cell_type": "code",
   "execution_count": 17,
   "id": "09f248f8",
   "metadata": {},
   "outputs": [],
   "source": [
    "number = even_num(12)"
   ]
  },
  {
   "cell_type": "code",
   "execution_count": 18,
   "id": "3d453e27",
   "metadata": {},
   "outputs": [
    {
     "name": "stdout",
     "output_type": "stream",
     "text": [
      "0\n",
      "2\n",
      "4\n",
      "6\n",
      "8\n",
      "10\n",
      "12\n"
     ]
    }
   ],
   "source": [
    "for i in number:\n",
    "    print(i)"
   ]
  },
  {
   "cell_type": "markdown",
   "id": "06ddc2e9",
   "metadata": {},
   "source": [
    "### Question no - 05"
   ]
  },
  {
   "cell_type": "code",
   "execution_count": 19,
   "id": "97e742d0",
   "metadata": {},
   "outputs": [
    {
     "name": "stdout",
     "output_type": "stream",
     "text": [
      "2\n",
      "3\n",
      "5\n",
      "7\n",
      "9\n",
      "11\n",
      "13\n",
      "15\n",
      "17\n",
      "19\n",
      "21\n",
      "23\n",
      "25\n",
      "27\n",
      "29\n",
      "31\n",
      "33\n",
      "35\n",
      "37\n",
      "39\n"
     ]
    }
   ],
   "source": [
    "def isprime(num):\n",
    "    for i in range(2,num):\n",
    "        if num%2==0:\n",
    "            return False \n",
    "    return True  \n",
    "def prime_num(n):\n",
    "    num=2\n",
    "    while n:\n",
    "        if isprime(num):\n",
    "            yield num\n",
    "            n-=1\n",
    "        num+=1\n",
    "it = prime_num(1000)\n",
    "for i in range(20):\n",
    "    prime = next(it)\n",
    "    print(prime)\n"
   ]
  },
  {
   "cell_type": "markdown",
   "id": "c019a0dc",
   "metadata": {},
   "source": [
    "### Question no - 06"
   ]
  },
  {
   "cell_type": "code",
   "execution_count": 20,
   "id": "72faa5a8",
   "metadata": {},
   "outputs": [
    {
     "name": "stdout",
     "output_type": "stream",
     "text": [
      "0 1 1 2 3 5 8 13 21 34 "
     ]
    }
   ],
   "source": [
    "a,b=0,1\n",
    "i=0\n",
    "while i<10:\n",
    "    print(a,end=' ')\n",
    "    a,b=b,a+b\n",
    "    i+=1\n"
   ]
  },
  {
   "cell_type": "markdown",
   "id": "51566ed1",
   "metadata": {},
   "source": [
    "### Question no - 07"
   ]
  },
  {
   "cell_type": "code",
   "execution_count": 21,
   "id": "88386380",
   "metadata": {},
   "outputs": [
    {
     "name": "stdout",
     "output_type": "stream",
     "text": [
      "['p', 'w', 's', 'k', 'i', 'l', 'l', 's']\n"
     ]
    }
   ],
   "source": [
    "str_num = 'pwskills'\n",
    "new_list = [i for i in str_num]\n",
    "print(new_list)"
   ]
  },
  {
   "cell_type": "markdown",
   "id": "91f82891",
   "metadata": {},
   "source": [
    "### Question no - 08"
   ]
  },
  {
   "cell_type": "code",
   "execution_count": 23,
   "id": "dcf79721",
   "metadata": {},
   "outputs": [
    {
     "name": "stdout",
     "output_type": "stream",
     "text": [
      "enter the number:121\n",
      "121\n",
      "number is Palindrome.\n"
     ]
    }
   ],
   "source": [
    "num = int(input(\"enter the number:\"))\n",
    "tem = num\n",
    "rev_num = 0\n",
    "while (num>0):\n",
    "    dig = num % 10\n",
    "    rev_num = rev_num*10+dig\n",
    "    num = num//10\n",
    "print(rev_num)\n",
    "if tem == rev_num:\n",
    "    print(\"number is Palindrome.\")\n",
    "else:\n",
    "    print(\"number is not Palindrome.\")\n"
   ]
  },
  {
   "cell_type": "markdown",
   "id": "0da5caaa",
   "metadata": {},
   "source": [
    "### Question no - 09"
   ]
  },
  {
   "cell_type": "code",
   "execution_count": 24,
   "id": "db4f0cd7",
   "metadata": {},
   "outputs": [
    {
     "name": "stdout",
     "output_type": "stream",
     "text": [
      "[1, 3, 5, 7, 9, 11, 13, 15, 17, 19, 21, 23, 25, 27, 29, 31, 33, 35, 37, 39, 41, 43, 45, 47, 49, 51, 53, 55, 57, 59, 61, 63, 65, 67, 69, 71, 73, 75, 77, 79, 81, 83, 85, 87, 89, 91, 93, 95, 97, 99]\n"
     ]
    }
   ],
   "source": [
    "num = list(range(1,100))\n",
    "odd_num = [i for i in num if i%2!=0]\n",
    "print(odd_num)"
   ]
  },
  {
   "cell_type": "code",
   "execution_count": null,
   "id": "aced9cc5",
   "metadata": {},
   "outputs": [],
   "source": []
  }
 ],
 "metadata": {
  "kernelspec": {
   "display_name": "Python 3 (ipykernel)",
   "language": "python",
   "name": "python3"
  },
  "language_info": {
   "codemirror_mode": {
    "name": "ipython",
    "version": 3
   },
   "file_extension": ".py",
   "mimetype": "text/x-python",
   "name": "python",
   "nbconvert_exporter": "python",
   "pygments_lexer": "ipython3",
   "version": "3.9.13"
  }
 },
 "nbformat": 4,
 "nbformat_minor": 5
}
